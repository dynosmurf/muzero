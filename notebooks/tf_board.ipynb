{
 "cells": [
  {
   "cell_type": "code",
   "execution_count": 2,
   "id": "408e7e0f-b85c-478e-bc94-0eb2d967ebf7",
   "metadata": {},
   "outputs": [],
   "source": [
    "%load_ext tensorboard"
   ]
  },
  {
   "cell_type": "code",
   "execution_count": 3,
   "id": "b2e81841-1d0f-4bed-a285-a722b21665bf",
   "metadata": {},
   "outputs": [
    {
     "data": {
      "text/plain": [
       "'2.4.1'"
      ]
     },
     "execution_count": 3,
     "metadata": {},
     "output_type": "execute_result"
    }
   ],
   "source": [
    "import tensorboard\n",
    "tensorboard.__version__"
   ]
  },
  {
   "cell_type": "code",
   "execution_count": 4,
   "id": "3765d572-6f35-48df-beaa-2214c691b669",
   "metadata": {},
   "outputs": [
    {
     "name": "stderr",
     "output_type": "stream",
     "text": [
      "2021-11-22 17:04:51.923706: I tensorflow/core/platform/cpu_feature_guard.cc:142] This TensorFlow binary is optimized with oneAPI Deep Neural Network Library (oneDNN) to use the following CPU instructions in performance-critical operations:  SSE4.1 SSE4.2 AVX AVX2 FMA\n",
      "To enable them in other operations, rebuild TensorFlow with the appropriate compiler flags.\n"
     ]
    }
   ],
   "source": [
    "import tensorflow as tf\n",
    "from tensorflow import keras\n",
    "\n",
    "\n",
    "# Define the model.\n",
    "model = keras.models.Sequential([\n",
    "    keras.layers.Flatten(input_shape=(28, 28)),\n",
    "    keras.layers.Dense(32, activation='relu'),\n",
    "    keras.layers.Dropout(0.2),\n",
    "    keras.layers.Dense(10, activation='softmax')\n",
    "])\n",
    "\n",
    "model.compile(\n",
    "    optimizer='adam',\n",
    "    loss='sparse_categorical_crossentropy',\n",
    "    metrics=['accuracy'])"
   ]
  },
  {
   "cell_type": "code",
   "execution_count": 5,
   "id": "f4ff93e1-8986-4b50-b703-672610052982",
   "metadata": {},
   "outputs": [
    {
     "name": "stdout",
     "output_type": "stream",
     "text": [
      "Downloading data from https://storage.googleapis.com/tensorflow/tf-keras-datasets/train-labels-idx1-ubyte.gz\n",
      "32768/29515 [=================================] - 0s 1us/step\n",
      "Downloading data from https://storage.googleapis.com/tensorflow/tf-keras-datasets/train-images-idx3-ubyte.gz\n",
      "26427392/26421880 [==============================] - 2s 0us/step\n",
      "Downloading data from https://storage.googleapis.com/tensorflow/tf-keras-datasets/t10k-labels-idx1-ubyte.gz\n",
      "8192/5148 [===============================================] - 0s 0us/step\n",
      "Downloading data from https://storage.googleapis.com/tensorflow/tf-keras-datasets/t10k-images-idx3-ubyte.gz\n",
      "4423680/4422102 [==============================] - 0s 0us/step\n"
     ]
    }
   ],
   "source": [
    "(train_images, train_labels), _ = keras.datasets.fashion_mnist.load_data()\n",
    "train_images = train_images / 255.0"
   ]
  },
  {
   "cell_type": "code",
   "execution_count": 6,
   "id": "e81afacb-2a42-4064-a626-7805a34b8cbd",
   "metadata": {},
   "outputs": [
    {
     "name": "stderr",
     "output_type": "stream",
     "text": [
      "2021-11-22 17:04:55.832378: I tensorflow/core/profiler/lib/profiler_session.cc:136] Profiler session initializing.\n",
      "2021-11-22 17:04:55.832526: I tensorflow/core/profiler/lib/profiler_session.cc:155] Profiler session started.\n",
      "2021-11-22 17:04:55.832636: I tensorflow/core/profiler/lib/profiler_session.cc:172] Profiler session tear down.\n",
      "2021-11-22 17:04:56.088070: I tensorflow/compiler/mlir/mlir_graph_optimization_pass.cc:116] None of the MLIR optimization passes are enabled (registered 2)\n",
      "2021-11-22 17:04:56.088989: I tensorflow/core/platform/profile_utils/cpu_utils.cc:112] CPU Frequency: 2193495000 Hz\n"
     ]
    },
    {
     "name": "stdout",
     "output_type": "stream",
     "text": [
      "Epoch 1/5\n",
      " 36/938 [>.............................] - ETA: 4s - loss: 2.0209 - accuracy: 0.2962"
     ]
    },
    {
     "name": "stderr",
     "output_type": "stream",
     "text": [
      "2021-11-22 17:04:56.590692: I tensorflow/core/profiler/lib/profiler_session.cc:136] Profiler session initializing.\n",
      "2021-11-22 17:04:56.590847: I tensorflow/core/profiler/lib/profiler_session.cc:155] Profiler session started.\n",
      "2021-11-22 17:04:56.599436: I tensorflow/core/profiler/lib/profiler_session.cc:71] Profiler session collecting data.\n",
      "2021-11-22 17:04:56.600311: I tensorflow/core/profiler/lib/profiler_session.cc:172] Profiler session tear down.\n",
      "2021-11-22 17:04:56.622831: I tensorflow/core/profiler/rpc/client/save_profile.cc:137] Creating directory: logs/fit/20211122-170455/train/plugins/profile/2021_11_22_17_04_56\n",
      "2021-11-22 17:04:56.628152: I tensorflow/core/profiler/rpc/client/save_profile.cc:143] Dumped gzipped tool data for trace.json.gz to logs/fit/20211122-170455/train/plugins/profile/2021_11_22_17_04_56/68232bc0ebd3.trace.json.gz\n",
      "2021-11-22 17:04:56.631407: I tensorflow/core/profiler/rpc/client/save_profile.cc:137] Creating directory: logs/fit/20211122-170455/train/plugins/profile/2021_11_22_17_04_56\n",
      "2021-11-22 17:04:56.635374: I tensorflow/core/profiler/rpc/client/save_profile.cc:143] Dumped gzipped tool data for memory_profile.json.gz to logs/fit/20211122-170455/train/plugins/profile/2021_11_22_17_04_56/68232bc0ebd3.memory_profile.json.gz\n",
      "2021-11-22 17:04:56.660999: I tensorflow/core/profiler/rpc/client/capture_profile.cc:251] Creating directory: logs/fit/20211122-170455/train/plugins/profile/2021_11_22_17_04_56Dumped tool data for xplane.pb to logs/fit/20211122-170455/train/plugins/profile/2021_11_22_17_04_56/68232bc0ebd3.xplane.pb\n",
      "Dumped tool data for overview_page.pb to logs/fit/20211122-170455/train/plugins/profile/2021_11_22_17_04_56/68232bc0ebd3.overview_page.pb\n",
      "Dumped tool data for input_pipeline.pb to logs/fit/20211122-170455/train/plugins/profile/2021_11_22_17_04_56/68232bc0ebd3.input_pipeline.pb\n",
      "Dumped tool data for tensorflow_stats.pb to logs/fit/20211122-170455/train/plugins/profile/2021_11_22_17_04_56/68232bc0ebd3.tensorflow_stats.pb\n",
      "Dumped tool data for kernel_stats.pb to logs/fit/20211122-170455/train/plugins/profile/2021_11_22_17_04_56/68232bc0ebd3.kernel_stats.pb\n",
      "\n"
     ]
    },
    {
     "name": "stdout",
     "output_type": "stream",
     "text": [
      "938/938 [==============================] - 3s 3ms/step - loss: 0.9765 - accuracy: 0.6619\n",
      "Epoch 2/5\n",
      "938/938 [==============================] - 2s 3ms/step - loss: 0.5259 - accuracy: 0.8175\n",
      "Epoch 3/5\n",
      "938/938 [==============================] - 2s 2ms/step - loss: 0.4721 - accuracy: 0.8329\n",
      "Epoch 4/5\n",
      "938/938 [==============================] - 2s 2ms/step - loss: 0.4426 - accuracy: 0.8445\n",
      "Epoch 5/5\n",
      "938/938 [==============================] - 2s 2ms/step - loss: 0.4244 - accuracy: 0.8471\n"
     ]
    },
    {
     "data": {
      "text/plain": [
       "<tensorflow.python.keras.callbacks.History at 0x7fcf3022e7f0>"
      ]
     },
     "execution_count": 6,
     "metadata": {},
     "output_type": "execute_result"
    }
   ],
   "source": [
    "from datetime import datetime\n",
    "\n",
    "# Define the Keras TensorBoard callback.\n",
    "logdir=\"logs/fit/\" + datetime.now().strftime(\"%Y%m%d-%H%M%S\")\n",
    "tensorboard_callback = keras.callbacks.TensorBoard(log_dir=logdir)\n",
    "\n",
    "# Train the model.\n",
    "model.fit(\n",
    "    train_images,\n",
    "    train_labels, \n",
    "    batch_size=64,\n",
    "    epochs=5, \n",
    "    callbacks=[tensorboard_callback])"
   ]
  },
  {
   "cell_type": "code",
   "execution_count": null,
   "id": "845a07b0-ed39-461d-95b3-4ca0e039d525",
   "metadata": {},
   "outputs": [
    {
     "name": "stdout",
     "output_type": "stream",
     "text": [
      "TensorBoard 2.4.1 at http://68232bc0ebd3:6006/ (Press CTRL+C to quit)\n"
     ]
    }
   ],
   "source": [
    "!tensorboard --bind_all --logdir ../../muzero-general/results"
   ]
  },
  {
   "cell_type": "code",
   "execution_count": null,
   "id": "1be4d9b2-9cb1-4a23-bd68-f70cd11e9665",
   "metadata": {},
   "outputs": [],
   "source": []
  }
 ],
 "metadata": {
  "kernelspec": {
   "display_name": "Python 3 (ipykernel)",
   "language": "python",
   "name": "python3"
  },
  "language_info": {
   "codemirror_mode": {
    "name": "ipython",
    "version": 3
   },
   "file_extension": ".py",
   "mimetype": "text/x-python",
   "name": "python",
   "nbconvert_exporter": "python",
   "pygments_lexer": "ipython3",
   "version": "3.9.6"
  }
 },
 "nbformat": 4,
 "nbformat_minor": 5
}
