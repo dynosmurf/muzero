{
 "cells": [
  {
   "cell_type": "code",
   "execution_count": 10,
   "id": "f253bca7",
   "metadata": {},
   "outputs": [
    {
     "name": "stdout",
     "output_type": "stream",
     "text": [
      "ndarray<tf.Tensor(\n",
      "[[[[0. 0. 0. 0.]\n",
      "   [0. 0. 0. 0.]\n",
      "   [0. 0. 0. 0.]\n",
      "   [0. 0. 0. 0.]]]], shape=(1, 1, 4, 4), dtype=float64)>\n",
      "ndarray<tf.Tensor(\n",
      "[[[0. 0. 0. 0.]\n",
      "  [0. 0. 0. 0.]\n",
      "  [0. 0. 0. 0.]\n",
      "  [0. 0. 0. 0.]]\n",
      "\n",
      " [[0. 0. 0. 0.]\n",
      "  [0. 0. 0. 0.]\n",
      "  [0. 0. 0. 0.]\n",
      "  [0. 0. 0. 0.]]], shape=(2, 4, 4), dtype=float64)>\n",
      "ndarray<tf.Tensor(\n",
      "[[[[0. 0. 0. 0.]\n",
      "   [0. 0. 0. 0.]\n",
      "   [0. 0. 0. 0.]\n",
      "   [0. 0. 0. 0.]]\n",
      "\n",
      "  [[0. 0. 0. 0.]\n",
      "   [0. 0. 0. 0.]\n",
      "   [0. 0. 0. 0.]\n",
      "   [0. 0. 0. 0.]]]], shape=(1, 2, 4, 4), dtype=float64)>\n"
     ]
    }
   ],
   "source": [
    "import tensorflow.experimental.numpy as tnp\n",
    "\n",
    "a = tnp.zeros(16).reshape((1,1,4,4))\n",
    "\n",
    "b = tnp.zeros(16).reshape((1,4,4))\n",
    "print(a)\n",
    "\n",
    "c = tnp.concatenate((a[0], b), axis=0)\n",
    "\n",
    "print(c)\n",
    "print(tnp.expand_dims(c, axis=0))"
   ]
  },
  {
   "cell_type": "code",
   "execution_count": 2,
   "id": "5a51d051",
   "metadata": {},
   "outputs": [
    {
     "name": "stdout",
     "output_type": "stream",
     "text": [
      "[[0.46137407 0.53862596]\n",
      " [0.6444824  0.35551772]\n",
      " [0.5147057  0.48529425]\n",
      " [0.5764453  0.42355475]\n",
      " [0.54298383 0.45701614]\n",
      " [0.55706507 0.44293496]\n",
      " [0.5488487  0.45115134]\n",
      " [0.6110012  0.38899884]\n",
      " [0.58310103 0.41689897]\n",
      " [0.59158623 0.40841368]] [[0.23 0.77]\n",
      " [0.23 0.77]\n",
      " [0.23 0.77]\n",
      " [0.23 0.77]\n",
      " [0.23 0.77]\n",
      " [0.23 0.77]\n",
      " [0.23 0.77]\n",
      " [0.23 0.77]\n",
      " [0.23 0.77]\n",
      " [0.23 0.77]]\n"
     ]
    }
   ],
   "source": [
    "import numpy as np\n",
    "pred = np.array([\n",
    "    [0.46137407, 0.53862596],\n",
    "         \n",
    "[0.6444824,  0.35551772],\n",
    "      \n",
    "[0.5147057,  0.48529425],\n",
    "       \n",
    "[0.5764453,  0.42355475],\n",
    "        \n",
    "[0.54298383, 0.45701614],\n",
    "       \n",
    "[0.55706507, 0.44293496],\n",
    "\n",
    "[0.5488487,  0.45115134],\n",
    "\n",
    "[0.6110012,  0.38899884],\n",
    "\n",
    "[0.58310103, 0.41689897],\n",
    " \n",
    "[0.59158623, 0.40841368],\n",
    "])\n",
    "\n",
    "actual = np.array([[.23, .77] for i in range(10)])\n",
    "\n",
    "print(pred, actual)"
   ]
  },
  {
   "cell_type": "code",
   "execution_count": 23,
   "id": "60c72075",
   "metadata": {},
   "outputs": [
    {
     "name": "stdout",
     "output_type": "stream",
     "text": [
      "0.9074431065652464\n"
     ]
    }
   ],
   "source": [
    "pred = np.array([[0.65, .35] for i in range(10)])\n",
    "actual = np.array([[.23, .77] for i in range(10)])\n",
    "ce_loss = np.sum(-actual * np.log(pred), axis=1)\n",
    "print(np.mean(ce_loss))\n",
    "\n",
    "loss = 0.6735621"
   ]
  },
  {
   "cell_type": "code",
   "execution_count": 26,
   "id": "bca65e3f",
   "metadata": {},
   "outputs": [
    {
     "name": "stdout",
     "output_type": "stream",
     "text": [
      "0.902166179626537\n"
     ]
    }
   ],
   "source": [
    "pred = [\n",
    "    [0.7593807, 0.2406193],\n",
    "[0.65561146, 0.34438857],\n",
    "[0.6296659, 0.3703341],\n",
    "[0.62287325, 0.37712675],\n",
    "[0.64156514, 0.3584349 ],\n",
    "[0.6260284,  0.37397158],\n",
    "[0.63257974, 0.36742023],\n",
    "[0.6427064,  0.35729364],\n",
    "[0.63016737, 0.36983263],\n",
    "[0.6235071, 0.3764929],\n",
    "[0.6194521,  0.38054794],\n",
    "]\n",
    "actual = np.array([[.23, .77] for i in range(11)])\n",
    "a = 0.6881896\n",
    "ce_loss = np.sum(-actual * np.log(pred), axis=1)\n",
    "print(np.mean(ce_loss))\n"
   ]
  },
  {
   "cell_type": "code",
   "execution_count": 27,
   "id": "1e0268e5",
   "metadata": {},
   "outputs": [
    {
     "data": {
      "text/plain": [
       "0.689872620909091"
      ]
     },
     "execution_count": 27,
     "metadata": {},
     "output_type": "execute_result"
    }
   ],
   "source": [
    "np.mean([0.8248588,  1.00573,    0.87402755, 0.6152879,  0.61582184, 0.6105112,\n",
    " 0.59947336, 0.61753833, 0.61560225, 0.6101805,  0.5995671 ])"
   ]
  },
  {
   "cell_type": "code",
   "execution_count": 28,
   "id": "c5d78f19",
   "metadata": {},
   "outputs": [
    {
     "data": {
      "text/plain": [
       "(2, 3)"
      ]
     },
     "execution_count": 28,
     "metadata": {},
     "output_type": "execute_result"
    }
   ],
   "source": [
    "t = (1,2,3)\n",
    "t[1:]"
   ]
  },
  {
   "cell_type": "code",
   "execution_count": 4,
   "id": "c688472c",
   "metadata": {},
   "outputs": [
    {
     "name": "stderr",
     "output_type": "stream",
     "text": [
      "2021-11-25 20:01:03.558735: I tensorflow/core/platform/cpu_feature_guard.cc:142] This TensorFlow binary is optimized with oneAPI Deep Neural Network Library (oneDNN) to use the following CPU instructions in performance-critical operations:  SSE4.1 SSE4.2 AVX AVX2 FMA\n",
      "To enable them in other operations, rebuild TensorFlow with the appropriate compiler flags.\n"
     ]
    },
    {
     "data": {
      "text/plain": [
       "<tf.Tensor: shape=(5, 2), dtype=float32, numpy=\n",
       "array([[0.8342013 , 0.16579875],\n",
       "       [0.6420332 , 0.35796675],\n",
       "       [0.6410214 , 0.35897863],\n",
       "       [0.6350399 , 0.36496004],\n",
       "       [0.6486932 , 0.3513068 ]], dtype=float32)>"
      ]
     },
     "execution_count": 4,
     "metadata": {},
     "output_type": "execute_result"
    }
   ],
   "source": [
    "import tensorflow as tf\n",
    "\n",
    "tf.nn.softmax([[0.6654, -0.9503],\n",
    "[0.3065, -0.2777],\n",
    "[0.3060, -0.2738],\n",
    "[0.3023, -0.2516],\n",
    "[0.3099, -0.3034]\n",
    "              ])"
   ]
  },
  {
   "cell_type": "code",
   "execution_count": 22,
   "id": "a952bc08",
   "metadata": {},
   "outputs": [
    {
     "data": {
      "text/plain": [
       "array([0, 1, 3])"
      ]
     },
     "execution_count": 22,
     "metadata": {},
     "output_type": "execute_result"
    }
   ],
   "source": [
    "import numpy as np\n",
    "\n",
    "t = np.array([1, 1, 0, 1])\n",
    "\n",
    "np.nonzero(t)[0]"
   ]
  },
  {
   "cell_type": "code",
   "execution_count": null,
   "id": "c37cfdf3",
   "metadata": {},
   "outputs": [],
   "source": []
  }
 ],
 "metadata": {
  "kernelspec": {
   "display_name": "Python 3",
   "language": "python",
   "name": "python3"
  },
  "language_info": {
   "codemirror_mode": {
    "name": "ipython",
    "version": 3
   },
   "file_extension": ".py",
   "mimetype": "text/x-python",
   "name": "python",
   "nbconvert_exporter": "python",
   "pygments_lexer": "ipython3",
   "version": "3.8.8"
  }
 },
 "nbformat": 4,
 "nbformat_minor": 5
}
