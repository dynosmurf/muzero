{
 "cells": [
  {
   "cell_type": "markdown",
   "id": "ca6c1c56-bef1-424a-81e2-a7b359e4685d",
   "metadata": {},
   "source": [
    "# Problem #1"
   ]
  },
  {
   "cell_type": "code",
   "execution_count": 1,
   "id": "317ebc76-87f5-47b4-a9ad-2b92b7ad4eb7",
   "metadata": {},
   "outputs": [],
   "source": [
    "import numpy as np\n",
    "\n",
    "def l2(v):\n",
    "    return np.sqrt(np.sum(v**2))\n",
    "\n",
    "def stop_cond(A, x_new, x, lamb_new, lamb, tol):\n",
    "    return abs(lamb_new - lamb) < tol\n",
    "\n",
    "def power_method(A, x_0, tol=10**-12, max_iter=100, stop_cond=stop_cond):\n",
    "    \n",
    "    lamb = 0\n",
    "    k = 1\n",
    "    x = x_0 / l2(x_0)\n",
    "    \n",
    "    for i in range(max_iter):\n",
    "        k += 1\n",
    "        x_new = A @ x\n",
    "        if l2(x_new) == 0:\n",
    "            return lamb, x_0, i\n",
    "        lamb_new = np.transpose(x_new) @ x\n",
    "        \n",
    "        # normalize x_new\n",
    "        x_new = x_new / l2(x_new)\n",
    "        \n",
    "        if stop_cond(A, x_new, x, lamb_new, lamb, tol):\n",
    "            return lamb_new, x_new, i\n",
    "        \n",
    "        lamb = lamb_new\n",
    "        x = x_new\n",
    "    \n",
    "    raise Exception(\"No eigen value found in {} iterations\".format(max_iter))"
   ]
  },
  {
   "cell_type": "code",
   "execution_count": 2,
   "id": "36c7f371-4e5c-4f19-828a-ef3da30f26af",
   "metadata": {},
   "outputs": [
    {
     "name": "stdout",
     "output_type": "stream",
     "text": [
      "9 total iterations.\n",
      "Largest eigenvector of A is 18.87850316903313, with eigenvector:\n",
      "  v=[-0.0172384   0.09572123  0.22290907  0.36719393  0.53227154  0.7229851 ]\n",
      "\n",
      "A*v = lambda*v => True, with tol=0.0001\n"
     ]
    }
   ],
   "source": [
    "A = np.array([\n",
    "    [ -3, -3, -2, -1,  0,  1],\n",
    "    [ -3,  0, -1,  0,  1,  2],\n",
    "    [ -2, -1,  3,  1,  2,  3],\n",
    "    [ -1,  0,  1,  6,  3,  4],\n",
    "    [  0,  1,  2,  3,  9,  5],\n",
    "    [  1,  2,  3,  4,  5, 12]\n",
    "], dtype=\"float64\")\n",
    "\n",
    "x_0 = np.array([1, 2, 3, 4, 5, 6])\n",
    "\n",
    "r = power_method(A, x_0, tol=10**-8, max_iter=50)\n",
    "\n",
    "print(\"{} total iterations.\".format(r[2]))\n",
    "print(\"Largest eigenvector of A is {}, with eigenvector:\\n  v={}\\n\".format(*r))\n",
    "print(\"A*v = lambda*v => {}, with tol={}\".format(np.allclose(A @ r[1], r[0]*r[1], atol=10**-4), 10**-4))"
   ]
  },
  {
   "cell_type": "markdown",
   "id": "f889451a-677f-4776-897d-7b16afd3bc47",
   "metadata": {},
   "source": [
    "# Problem #2"
   ]
  },
  {
   "cell_type": "markdown",
   "id": "19e01cd3-de06-47ae-b626-d9d76d5e8863",
   "metadata": {},
   "source": [
    "Using the stop condition $\\Vert A\\vec{x} - \\lambda\\vec{x} \\Vert < tol$:"
   ]
  },
  {
   "cell_type": "code",
   "execution_count": 3,
   "id": "3d86a3c1-3c44-4a63-8e47-7fa1928051a7",
   "metadata": {},
   "outputs": [
    {
     "name": "stdout",
     "output_type": "stream",
     "text": [
      "32 total iterations.\n",
      "Eigenvalue of A closest to 3.7 is 4.12214702965213 with eigenvector:\n",
      "  v=[-0.11100169 -0.09131111 -0.03652607  0.91529329 -0.30140393 -0.22226251]\n",
      "\n"
     ]
    }
   ],
   "source": [
    "shift_mu = 3.7\n",
    "B = A - shift_mu * np.identity(A.shape[0])\n",
    "B_inv = np.linalg.inv(B)\n",
    "\n",
    "def stop_cond_alt(A, x_new, x, lamb_new, lamb, tol):\n",
    "    return l2(A @ x_new - lamb_new * x_new) < tol\n",
    "\n",
    "r = power_method(B_inv, x_0, tol=10**-8, max_iter=50, stop_cond=stop_cond_alt)\n",
    "\n",
    "lamb = 1/r[0] + shift_mu\n",
    "v = B_inv @ r[1]\n",
    "v = v / l2(v)\n",
    "\n",
    "print(\"{} total iterations.\".format(r[2]))\n",
    "print(\"Eigenvalue of A closest to {} is {} with eigenvector:\\n  v={}\\n\".format(shift_mu, lamb, v))"
   ]
  },
  {
   "cell_type": "markdown",
   "id": "2f84e8c2-1ef3-40db-aa93-f14d29fae8da",
   "metadata": {},
   "source": [
    "Using the stop condition from problem #1:"
   ]
  },
  {
   "cell_type": "code",
   "execution_count": 14,
   "id": "f730877d-5c6b-4542-bf38-725b73c188e7",
   "metadata": {},
   "outputs": [
    {
     "name": "stdout",
     "output_type": "stream",
     "text": [
      "17 total iterations.\n",
      "Eigenvalue of A closest to 3.7 is 4.122147030324733 with eigenvector:\n",
      "  v=[-0.11099979 -0.09130878 -0.03653495  0.91529407 -0.3014028  -0.22226126]\n",
      "\n"
     ]
    }
   ],
   "source": [
    "r = power_method(B_inv, x_0, tol=10**-8, max_iter=50, stop_cond=stop_cond)\n",
    "\n",
    "lamb = 1/r[0] + shift_mu\n",
    "v = B_inv @ r[1]\n",
    "v = v / l2(v)\n",
    "\n",
    "print(\"{} total iterations.\".format(r[2]))\n",
    "print(\"Eigenvalue of A closest to {} is {} with eigenvector:\\n  v={}\\n\".format(shift_mu, lamb, v))"
   ]
  },
  {
   "cell_type": "markdown",
   "id": "91ec8807-bfb3-4a77-9bfa-94d275b989d4",
   "metadata": {},
   "source": [
    "# Problem #3"
   ]
  },
  {
   "cell_type": "code",
   "execution_count": 15,
   "id": "e4a3d088-ed69-407b-8840-5187706f1923",
   "metadata": {},
   "outputs": [],
   "source": [
    "def LUwithP(A):\n",
    "    \n",
    "    size = A.shape[0]\n",
    "    \n",
    "    L = np.identity(size)\n",
    "    U = np.copy(A)\n",
    "    P = np.identity(size)\n",
    "    \n",
    "    # iterate over the columns/rows\n",
    "    for j in range(size):\n",
    "        # finds the index of largest pivot in column j, row j to size\n",
    "     \n",
    "        pi = np.argmax(np.abs(U[j:,j]))\n",
    "      \n",
    "        # swap rows in U\n",
    "        U[[j, pi +j], j:] = U[[pi +j, j], j:]\n",
    "\n",
    "        #swap rows in P\n",
    "        P[[pi + j, j]] = P[[j, pi + j]]\n",
    "        \n",
    "        #swap rows in L\n",
    "        if j > 0:\n",
    "            L[[pi + j, j], :j] = L[[j, pi + j], :j]\n",
    "\n",
    "        pivot = U[j][j]\n",
    "\n",
    "        # iterate from next row to last row\n",
    "        for i in range(j+1, size):\n",
    "\n",
    "            # a - m * pivot = 0  =>  m = a/pivot            \n",
    "            m = U[i][j] / pivot\n",
    "            L[i][j] = m \n",
    "            \n",
    "            # iterate through remaining columns in the row\n",
    "            for k in range(j, size):\n",
    "                U[i][k] = U[i][k] - m*U[j][k]\n",
    "                \n",
    "    return P,L,U\n",
    "\n",
    "def forward_subs(L, b):\n",
    "    \n",
    "    size = L.shape[0]\n",
    "    out = np.zeros(size)\n",
    "    \n",
    "    for k in range(size):\n",
    "        \n",
    "        out[k] = b[k] - np.sum([ (L[k][i] * out[i] )/ L[k][k] for i in range(k + 1) ])\n",
    "        \n",
    "    return out\n",
    "\n",
    "def back_subs(U, b):\n",
    "    size = U.shape[0]\n",
    "    out = np.zeros(size)\n",
    "    out[-1] = b[-1] / U[-1,-1]\n",
    "    \n",
    "    for k in range(size - 2, -1, -1):\n",
    "        \n",
    "        out[k] = (b[k] - np.sum([ (U[k][i] * out[i] ) for i in range(k+1, size) ])) / U[k][k]\n",
    "  \n",
    "    return out  "
   ]
  },
  {
   "cell_type": "code",
   "execution_count": 16,
   "id": "acd0815d-23e0-4ada-9208-e2062090a702",
   "metadata": {},
   "outputs": [],
   "source": [
    "def inverse_iter_inv(A, x_0, shift_mu, tol=10**-10, max_iter=100, stop_cond=stop_cond):\n",
    "    lamb = 0\n",
    "    k = 1\n",
    "    x = x_0 / l2(x_0)\n",
    "    B = A - shift_mu * np.identity(A.shape[0])\n",
    "    \n",
    "    # Note using library inv function here\n",
    "    B_inv = np.linalg.inv(B)\n",
    "    \n",
    "    for i in range(max_iter):\n",
    "        k += 1\n",
    "        x_new = B_inv @ x\n",
    "        \n",
    "        if l2(x_new) == 0:\n",
    "            return 0, x_0, i\n",
    "        \n",
    "        lamb_new = np.transpose(x_new) @ x\n",
    "        \n",
    "        x_new = x_new / l2(x_new)\n",
    "        if stop_cond(B_inv, x_new, x, lamb_new, lamb, tol):\n",
    "            v = B_inv @ x_new\n",
    "            return 1/lamb_new + shift_mu, v / l2(v), i\n",
    "        lamb = lamb_new\n",
    "        x = x_new\n",
    "        \n",
    "    raise Exception(\"No eigen value found in {} iterations\".format(max_iter))"
   ]
  },
  {
   "cell_type": "markdown",
   "id": "193a8d68-84ff-49fc-af8e-c39427f5a1e4",
   "metadata": {},
   "source": [
    "Checking against problem 2 result:"
   ]
  },
  {
   "cell_type": "code",
   "execution_count": 17,
   "id": "2e18bcb2-7b1b-4599-a9c5-6e1c2fe27af6",
   "metadata": {},
   "outputs": [
    {
     "name": "stdout",
     "output_type": "stream",
     "text": [
      "32 total iterations.\n",
      "Eigenvalue of A closest to 4.0 is 4.12214702965213 with eigenvector:\n",
      "v=[-0.11100169 -0.09131111 -0.03652607  0.91529329 -0.30140393 -0.22226251]\n",
      "\n"
     ]
    }
   ],
   "source": [
    "r = inverse_iter_inv(A, x_0, 3.7, tol=10**-8, max_iter=50, stop_cond=stop_cond_alt)\n",
    "print(\"{} total iterations.\".format(r[2]))\n",
    "print(\"Eigenvalue of A closest to {} is {} with eigenvector:\\nv={}\\n\".format(4.0, r[0], r[1]))"
   ]
  },
  {
   "cell_type": "markdown",
   "id": "a761e3ee-5c74-418e-aef9-58d99c699e78",
   "metadata": {},
   "source": [
    "Using $\\mu=4.0$ and same stop condition as problem #1:"
   ]
  },
  {
   "cell_type": "code",
   "execution_count": 18,
   "id": "14d67b7e-abd4-48f9-b0dc-be245a314cd2",
   "metadata": {},
   "outputs": [
    {
     "name": "stdout",
     "output_type": "stream",
     "text": [
      "6 total iterations.\n",
      "Eigenvalue of A closest to 4.0 is 4.122147029652752 with eigenvector:\n",
      "v=[-0.11100169 -0.09131112 -0.03652605  0.91529328 -0.30140393 -0.22226252]\n",
      "\n"
     ]
    }
   ],
   "source": [
    "r = inverse_iter_inv(A, x_0, 4.0, tol=10**-8, max_iter=50)\n",
    "print(\"{} total iterations.\".format(r[2]))\n",
    "print(\"Eigenvalue of A closest to {} is {} with eigenvector:\\nv={}\\n\".format(4.0, r[0], r[1]))"
   ]
  },
  {
   "cell_type": "markdown",
   "id": "ae5dee7f-7658-4417-b09f-b958e6977f2e",
   "metadata": {},
   "source": [
    "Using $\\mu = 3.7$ and same stop condition as problem #1:"
   ]
  },
  {
   "cell_type": "code",
   "execution_count": 19,
   "id": "6f834a57-2bca-4fcd-9d28-455f65557738",
   "metadata": {},
   "outputs": [
    {
     "name": "stdout",
     "output_type": "stream",
     "text": [
      "17 total iterations.\n",
      "Eigenvalue of A closest to 3.7 is 4.122147030324733 with eigenvector:\n",
      "v=[-0.11099979 -0.09130878 -0.03653495  0.91529407 -0.3014028  -0.22226126]\n",
      "\n"
     ]
    }
   ],
   "source": [
    "r = inverse_iter_inv(A, x_0, 3.7, tol=10**-8, max_iter=50)\n",
    "print(\"{} total iterations.\".format(r[2]))\n",
    "print(\"Eigenvalue of A closest to {} is {} with eigenvector:\\nv={}\\n\".format(3.7, r[0], r[1]))"
   ]
  },
  {
   "cell_type": "markdown",
   "id": "67d8954e-25a3-4488-8378-d9d754bcfe3e",
   "metadata": {},
   "source": [
    "Replacing `np.linalg.inv` with $LU$ factorization:"
   ]
  },
  {
   "cell_type": "code",
   "execution_count": 26,
   "id": "100d00fe-4bed-45f4-8e47-72a4fba8b076",
   "metadata": {},
   "outputs": [],
   "source": [
    "def inv(P, L, U, v):\n",
    "    v_temp = forward_subs(L, P @ v)\n",
    "    return back_subs(U, v_temp)\n",
    "\n",
    "def rev(P, L, U, v):\n",
    "    return P @ L @ U @ v\n",
    "\n",
    "def inverse_iter_LU(A, x_0, shift_mu, tol=10**-10, max_iter=100):\n",
    "    lamb = 0\n",
    "    k = 1\n",
    "    x = x_0 / l2(x_0)\n",
    "    B = A - shift_mu * np.identity(A.shape[0])\n",
    "    [P, L, U] = LUwithP(B)\n",
    "\n",
    "    for i in range(max_iter):\n",
    "        k += 1\n",
    "     \n",
    "        x_new = inv(P, L, U, x)\n",
    "        \n",
    "        if l2(x_new) == 0:\n",
    "            return 0, x_0, i\n",
    "        lamb_new = np.transpose(x_new) @ x\n",
    "        x_new = x_new / l2(x_new)\n",
    "        if abs(lamb_new - lamb) < tol:\n",
    "            v = rev(P, L, U, x_new)\n",
    "            return 1/lamb_new + shift_mu, x_new, i\n",
    "        lamb = lamb_new\n",
    "        x = x_new\n",
    "        \n",
    "    raise Exception(\"No eigen value found in {} iterations\".format(max_iter))"
   ]
  },
  {
   "cell_type": "markdown",
   "id": "9c956d4b-1ba3-48f8-ab3b-34693d56376c",
   "metadata": {},
   "source": [
    "Using $\\mu = 4.0$:"
   ]
  },
  {
   "cell_type": "code",
   "execution_count": 27,
   "id": "ff8a5041-54f4-46c3-b599-d9f8edb2bfb6",
   "metadata": {},
   "outputs": [
    {
     "name": "stdout",
     "output_type": "stream",
     "text": [
      "6 total iterations.\n",
      "Eigenvalue of A closest to 4.0 is 4.122147029652752 with eigenvector:\n",
      "v=[-0.11100164 -0.09131106 -0.03652629  0.91529331 -0.30140386 -0.22226251]\n",
      "\n"
     ]
    }
   ],
   "source": [
    "r = inverse_iter_LU(A, x_0, 4.0, tol=10**-8, max_iter=50)\n",
    "print(\"{} total iterations.\".format(r[2]))\n",
    "print(\"Eigenvalue of A closest to {} is {} with eigenvector:\\nv={}\\n\".format(4.0, r[0], r[1]))"
   ]
  },
  {
   "cell_type": "markdown",
   "id": "e55cf9c6-64f0-497d-b89c-fdce188a716f",
   "metadata": {},
   "source": [
    "Using $\\mu = 3.7$:"
   ]
  },
  {
   "cell_type": "code",
   "execution_count": 28,
   "id": "1670779b-a2f1-4dc1-a331-248229d71bd7",
   "metadata": {},
   "outputs": [
    {
     "name": "stdout",
     "output_type": "stream",
     "text": [
      "17 total iterations.\n",
      "Eigenvalue of A closest to 4.0 is 4.122147030324733 with eigenvector:\n",
      "v=[-0.11100516 -0.09131538 -0.0365098   0.91529185 -0.301406   -0.2222648 ]\n",
      "\n"
     ]
    }
   ],
   "source": [
    "r = inverse_iter_LU(A, x_0, 3.7, tol=10**-8, max_iter=50)\n",
    "print(\"{} total iterations.\".format(r[2]))\n",
    "print(\"Eigenvalue of A closest to {} is {} with eigenvector:\\nv={}\\n\".format(4.0, r[0], r[1]))"
   ]
  },
  {
   "cell_type": "markdown",
   "id": "4ccdf2a9-9def-41bd-8a33-21580766435a",
   "metadata": {},
   "source": [
    "### Results\n",
    "\n",
    "Comparing results from problem 2 and 3 with consistent stop conditions of problem 1 gives the following results:\n",
    "\n",
    "|method|shift_mu|total iterations|\n",
    "|------|---|---|\n",
    "|`inverse + power_method` (prob. 2)|3.7|17|\n",
    "|`inverse_iter_inv` (prob. 3)|3.7|17\n",
    "|`inverse_iter_inv` (prob. 3)|4.0|6\n",
    "|`inverse_iter_LU` (prob. 3)|3.7|17\n",
    "|`inverse_iter_LU` (prob. 3)|4.0|6\n",
    "\n",
    "Changing the shift to be closer to the eigenvector has the effect of reducing the number of itterations before the algorithm reaches the desired tolerance. At a high level the algorithm will return the closest eigenvalue to $\\mu$ so adjusting $\\mu$ to start closer to an eigenvalue will reduce the number of steps needed to reach that eighenvalue.\n"
   ]
  },
  {
   "cell_type": "code",
   "execution_count": null,
   "id": "aa0bbcdf-fbdb-4a0b-9790-7f517e4ab7ec",
   "metadata": {},
   "outputs": [],
   "source": []
  }
 ],
 "metadata": {
  "kernelspec": {
   "display_name": "Python 3 (ipykernel)",
   "language": "python",
   "name": "python3"
  },
  "language_info": {
   "codemirror_mode": {
    "name": "ipython",
    "version": 3
   },
   "file_extension": ".py",
   "mimetype": "text/x-python",
   "name": "python",
   "nbconvert_exporter": "python",
   "pygments_lexer": "ipython3",
   "version": "3.9.6"
  }
 },
 "nbformat": 4,
 "nbformat_minor": 5
}
