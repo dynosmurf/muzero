{
 "cells": [
  {
   "cell_type": "code",
   "execution_count": 28,
   "id": "4b27f9d8-590f-4889-9f5f-006cad149fec",
   "metadata": {},
   "outputs": [
    {
     "name": "stdout",
     "output_type": "stream",
     "text": [
      "[[  6.00048828   7.00048828   8.00048828   9.00048828  10.00048828\n",
      "   11.00048828  12.00048828  13.00048828  14.00048828  15.00048828]\n",
      " [ 16.00048828  17.00048828  18.00048828  19.00048828  20.00048828\n",
      "   21.00048828  22.00048828  23.00048828  24.00048828  25.00048828]\n",
      " [ 26.00048828  27.00048828  28.00048828  29.00048828  30.00048828\n",
      "   31.00048828  32.00048828  33.00048828  34.00048828  35.00048828]\n",
      " [ 36.00048828  37.00048828  38.00048828  39.00048828  40.00048828\n",
      "   41.00048828  42.00048828  43.00048828  44.00048828  45.00048828]\n",
      " [ 46.00048828  47.00048828  48.00048828  49.00048828  50.00048828\n",
      "   51.00048828  52.00048828  53.00048828  54.00048828  55.00048828]\n",
      " [ 56.00048828  57.00048828  58.00048828  59.00048828  60.00048828\n",
      "   61.00048828  62.00048828  63.00048828  64.00048828  65.00048828]\n",
      " [ 66.00048828  67.00048828  68.00048828  69.00048828  70.00048828\n",
      "   71.00048828  72.00048828  73.00048828  74.00048828  75.00048828]\n",
      " [ 76.00048828  77.00048828  78.00048828  79.00048828  80.00048828\n",
      "   81.00048828  82.00048828  83.00048828  84.00048828  85.00048828]\n",
      " [ 86.00048828  87.00048828  88.00048828  89.00048828  90.00048828\n",
      "   91.00048828  92.00048828  93.00048828  94.00048828  95.00048828]\n",
      " [ 96.00048828  97.00048828  98.00048828  99.00048828 100.00048828\n",
      "  101.00048828 102.00048828 103.00048828 104.00048828 105.00048828]]\n",
      "[[  6.00048828   7.00048828   8.00048828   9.00048828  10.00048828\n",
      "   11.00048828  12.00048828  13.00048828  14.00048828  15.00048828]\n",
      " [ 16.00048828  17.00048828  18.00048828  19.00048828  20.00048828\n",
      "   21.00048828  22.00048828  23.00048828  24.00048828  25.00048828]\n",
      " [ 26.00048828  27.00048828  28.00048828  29.00048828  30.00048828\n",
      "   31.00048828  32.00048828  33.00048828  34.00048828  35.00048828]\n",
      " [ 36.00048828  37.00048828  38.00048828  39.00048828  40.00048828\n",
      "   41.00048828  42.00048828  43.00048828  44.00048828  45.00048828]\n",
      " [ 46.00048828  47.00048828  48.00048828  49.00048828  50.00048828\n",
      "   51.00048828  52.00048828  53.00048828  54.00048828  55.00048828]\n",
      " [ 56.00048828  57.00048828  58.00048828  59.00048828  60.00048828\n",
      "   61.00048828  62.00048828  63.00048828  64.00048828  65.00048828]\n",
      " [ 66.00048828  67.00048828  68.00048828  69.00048828  70.00048828\n",
      "   71.00048828  72.00048828  73.00048828  74.00048828  75.00048828]\n",
      " [ 76.00048828  77.00048828  78.00048828  79.00048828  80.00048828\n",
      "   81.00048828  82.00048828  83.00048828  84.00048828  85.00048828]\n",
      " [ 86.00048828  87.00048828  88.00048828  89.00048828  90.00048828\n",
      "   91.00048828  92.00048828  93.00048828  94.00048828  95.00048828]\n",
      " [ 96.00048828  97.00048828  98.00048828  99.00048828 100.00048828\n",
      "  101.00048828 102.00048828 103.00048828 104.00048828 105.00048828]]\n"
     ]
    }
   ],
   "source": [
    "from numba import njit, prange\n",
    "import numpy as np\n",
    "import time\n",
    "\n",
    "x = np.arange(100).reshape(10, 10)\n",
    "\n",
    "@njit()\n",
    "def go_fast_n(a): # Function is compiled and runs in machine code\n",
    "    trace = 0.0\n",
    "    for i in range(a.shape[0]):\n",
    "        if i % 2 == 0:\n",
    "            trace += np.tanh(a[i, i])\n",
    "        else:\n",
    "            trace += 1 / max(1, np.power(2, a[i, i]))\n",
    "    return a + trace\n",
    "\n",
    "def go_fast_i(a): # Function is compiled and runs in machine code\n",
    "    trace = 0.0\n",
    "    for i in range(a.shape[0]):\n",
    "        if i % 2 == 0:\n",
    "            trace += np.tanh(a[i, i])\n",
    "        else:\n",
    "            trace += 1 / max(1, np.power(2, a[i, i]))\n",
    "    return a + trace\n",
    "\n",
    "# trigger jit\n",
    "print(go_fast_n(x))\n",
    "print(go_fast_i(x))"
   ]
  },
  {
   "cell_type": "code",
   "execution_count": 29,
   "id": "aa060ad0-6fec-4b60-b350-36c94542c914",
   "metadata": {},
   "outputs": [
    {
     "name": "stdout",
     "output_type": "stream",
     "text": [
      "1.98 µs ± 21.2 ns per loop (mean ± std. dev. of 7 runs, 100000 loops each)\n"
     ]
    }
   ],
   "source": [
    "%timeit go_fast_n(x)"
   ]
  },
  {
   "cell_type": "code",
   "execution_count": 30,
   "id": "d6d0a650-a1a0-4692-9891-bc62f763e9b5",
   "metadata": {},
   "outputs": [
    {
     "name": "stdout",
     "output_type": "stream",
     "text": [
      "40.7 µs ± 3.65 µs per loop (mean ± std. dev. of 7 runs, 10000 loops each)\n"
     ]
    }
   ],
   "source": [
    "%timeit go_fast_i(x)"
   ]
  },
  {
   "cell_type": "code",
   "execution_count": 84,
   "id": "70bf820a-5d40-4d2c-8663-20707ddc8072",
   "metadata": {},
   "outputs": [],
   "source": [
    "def softmax_sample(counts, actions, temp):\n",
    "    if temp == 0:\n",
    "        i = np.argmax(counts)\n",
    "        return counts[i], actions[i]\n",
    "     \n",
    "    p = 1/temp\n",
    "    powers = counts**p\n",
    "    total_sum = np.sum(powers)\n",
    "    probabilities = powers / total_sum\n",
    "    i = np.argmax(np.random.multinomial(1, probabilities, 1))\n",
    "    return probabilities[i], actions[i]        \n",
    "\n",
    "@njit()\n",
    "def softmax_sample_c(counts, actions, temp):\n",
    "    if temp == 0:\n",
    "        i = np.argmax(counts)\n",
    "        return counts[i], actions[i]\n",
    "     \n",
    "    p = 1/temp\n",
    "    powers = counts**p\n",
    "    total_sum = np.sum(powers)\n",
    "    probabilities = powers / total_sum\n",
    "    i = np.argmax(np.random.multinomial(1, probabilities, 1))\n",
    "    return probabilities[i], actions[i]   "
   ]
  },
  {
   "cell_type": "code",
   "execution_count": 89,
   "id": "d746f2c4-bbb7-4c24-9e40-257ee9719ff2",
   "metadata": {},
   "outputs": [
    {
     "data": {
      "text/plain": [
       "[(0.17777777777777778, 8),\n",
       " (0.08888888888888889, 4),\n",
       " (0.044444444444444446, 2),\n",
       " (0.08888888888888889, 4),\n",
       " (0.1111111111111111, 5),\n",
       " (0.13333333333333333, 6),\n",
       " (0.17777777777777778, 8),\n",
       " (0.17777777777777778, 8),\n",
       " (0.1111111111111111, 5),\n",
       " (0.15555555555555556, 7)]"
      ]
     },
     "execution_count": 89,
     "metadata": {},
     "output_type": "execute_result"
    }
   ],
   "source": [
    "counts = np.arange(10)*100\n",
    "actions = np.arange(10)\n",
    "\n",
    "[softmax_sample_c(counts, actions, 1) for _ in range(10)]"
   ]
  },
  {
   "cell_type": "code",
   "execution_count": 90,
   "id": "b9b9ff25-dae5-4bc0-8d43-9bd0ba75d5d7",
   "metadata": {},
   "outputs": [
    {
     "name": "stdout",
     "output_type": "stream",
     "text": [
      "48 µs ± 9.06 µs per loop (mean ± std. dev. of 7 runs, 10000 loops each)\n"
     ]
    }
   ],
   "source": [
    "%timeit softmax_sample(counts, actions, 1)"
   ]
  },
  {
   "cell_type": "code",
   "execution_count": 91,
   "id": "b69e9f6e-a92c-4516-898a-f7e1a306f092",
   "metadata": {},
   "outputs": [
    {
     "name": "stdout",
     "output_type": "stream",
     "text": [
      "1.58 µs ± 5.7 ns per loop (mean ± std. dev. of 7 runs, 1000000 loops each)\n"
     ]
    }
   ],
   "source": [
    "%timeit softmax_sample_c(counts, actions, 1)"
   ]
  },
  {
   "cell_type": "code",
   "execution_count": 92,
   "id": "2d62bc6e-afb7-4ab3-a973-1a1ca3714154",
   "metadata": {},
   "outputs": [
    {
     "name": "stdout",
     "output_type": "stream",
     "text": [
      "12.9 µs ± 4.04 µs per loop (mean ± std. dev. of 7 runs, 1 loop each)\n"
     ]
    }
   ],
   "source": [
    "%timeit softmax_sample_c(counts, actions, 0.5)"
   ]
  },
  {
   "cell_type": "code",
   "execution_count": 93,
   "id": "2ba15562-1a39-4169-a805-972bf25ee500",
   "metadata": {},
   "outputs": [
    {
     "name": "stdout",
     "output_type": "stream",
     "text": [
      "856 ns ± 72.4 ns per loop (mean ± std. dev. of 7 runs, 1000000 loops each)\n"
     ]
    }
   ],
   "source": [
    "%timeit softmax_sample_c(counts, actions, 0)"
   ]
  },
  {
   "cell_type": "code",
   "execution_count": null,
   "id": "a9fdc2a8-7699-43be-b180-96eaf8cb6ed9",
   "metadata": {},
   "outputs": [],
   "source": []
  }
 ],
 "metadata": {
  "kernelspec": {
   "display_name": "Python 3 (ipykernel)",
   "language": "python",
   "name": "python3"
  },
  "language_info": {
   "codemirror_mode": {
    "name": "ipython",
    "version": 3
   },
   "file_extension": ".py",
   "mimetype": "text/x-python",
   "name": "python",
   "nbconvert_exporter": "python",
   "pygments_lexer": "ipython3",
   "version": "3.9.6"
  }
 },
 "nbformat": 4,
 "nbformat_minor": 5
}
